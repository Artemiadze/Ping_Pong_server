{
 "cells": [
  {
   "cell_type": "markdown",
   "metadata": {},
   "source": [
    "## Основные шаги"
   ]
  },
  {
   "cell_type": "markdown",
   "metadata": {},
   "source": [
    "1. Создать FIFO-файл для передачи сообщений между клиентом и сервером (to_desk).\n",
    "2. Клиент:\n",
    "    - Пишет сообщение ping в FIFO to_desk.\n",
    "    - Читает ответ pong из FIFO to_desk.\n",
    "    - В случае ошибки возвращается в начальную точку.\n",
    "3. Сервер:\n",
    "    - Читает запрос из FIFO to_desk.\n",
    "    - Отвечает pong через FIFO to_desk.\n",
    "    - При ошибке возвращается к ожиданию запроса.\n"
   ]
  },
  {
   "cell_type": "markdown",
   "metadata": {},
   "source": [
    "### Реализация"
   ]
  },
  {
   "cell_type": "markdown",
   "metadata": {},
   "source": [
    "Подготовка FIFO \\\n",
    "Перед самым первые в жизни запуском необходимо создать FIFO-файл. Выполните следующую команду в терминале:"
   ]
  },
  {
   "cell_type": "code",
   "execution_count": null,
   "metadata": {},
   "outputs": [],
   "source": [
    "mkfifo to_desk"
   ]
  },
  {
   "cell_type": "markdown",
   "metadata": {},
   "source": [
    "Если вы уже писали предыдущую строку, то больше создавать файл to_desk не надо"
   ]
  },
  {
   "cell_type": "markdown",
   "metadata": {},
   "source": [
    "Сервер (server.py)\n"
   ]
  },
  {
   "cell_type": "code",
   "execution_count": null,
   "metadata": {},
   "outputs": [],
   "source": [
    "def run_server(descriptor_file = \"to_desk\"):\n",
    "    \"\"\"Функция для работы сервера, она считывает запрос от клиента и посылает соответствующий ответ.\"\"\"\n",
    "    print(\"Сервер запущен и ожидает запросов...\")\n",
    "    while True:\n",
    "        try:\n",
    "            # Чтение из FIFO файла дескриптора\n",
    "            with open(descriptor_file, \"r\") as server_fifo:\n",
    "                \"\"\" Открытие файла-дескриптора для просмотра запроса от клиента\"\"\"\n",
    "                request = server_fifo.read().strip()\n",
    "                print(f\"Получен запрос: {request}\")\n",
    "\n",
    "                # Если запрос тот, который мы хотим \n",
    "                if request == \"ping\":\n",
    "                    response = \"pong\"\n",
    "                    # Запись ответа в FIFO файл дескриптор\n",
    "                    with open(descriptor_file, \"w\") as client_fifo:\n",
    "                        client_fifo.write(response)\n",
    "                        print(f\"Отправлен ответ: {response}\")\n",
    "                else:\n",
    "                    print(f\"Ошибка: неизвестный запрос '{request}'\")\n",
    "        except Exception as e:\n",
    "            print(f\"Ошибка сервера: {e}\")\n",
    "            continue\n",
    "\n",
    "if __name__ == \"__main__\":\n",
    "    try:\n",
    "        print(\"Для остановки сервера нажмите Ctrl + C или Ctrl + Z\")\n",
    "        run_server()\n",
    "    except KeyboardInterrupt:\n",
    "        print(\"\\nСервер остановлен.\")\n"
   ]
  },
  {
   "cell_type": "markdown",
   "metadata": {},
   "source": [
    "Клиент (client.py)"
   ]
  },
  {
   "cell_type": "code",
   "execution_count": null,
   "metadata": {},
   "outputs": [],
   "source": [
    "import time\n",
    "\n",
    "def run_client(descriptor_file = \"to_desk\"):\n",
    "    \"\"\"Функция запуска работы клиента, она отправляет запрос на сервер (ping) и ждёт от него ответа (pong)\"\"\"\n",
    "    print(\"Клиент запущен.\")\n",
    "\n",
    "    while True:\n",
    "        try:\n",
    "            # Отправка запроса\n",
    "            request = \"ping\"\n",
    "            with open(descriptor_file, \"w\") as server_fifo:\n",
    "                \"\"\" Открытие файла-дескриптора для отправки запроса и закрытие его для того, чтобы с ним мог работать сервер.\"\"\"\n",
    "                server_fifo.write(request)\n",
    "                print(f\"Отправлен запрос: {request}\")\n",
    "\n",
    "            # Чтение ответа\n",
    "            with open(descriptor_file, \"r\") as client_fifo:\n",
    "                \"\"\" Открытие файла-дескриптора для чтения ответа от сервера\"\"\"\n",
    "                response = client_fifo.read().strip()\n",
    "                print(f\"Получен ответ: {response}\")\n",
    "            \n",
    "            # Если сервер послал не то, что мы хотим\n",
    "            if response != \"pong\":\n",
    "                print(\"Ошибка: неверный ответ. Повтор запроса...\")\n",
    "                time.sleep(1)\n",
    "                continue\n",
    "\n",
    "            # Успешное завершение\n",
    "            if input(\"Отправить ещё раз запрос на сервер (y/n)? \").strip().lower() != \"y\": # .strip() - удаляет лишние пробелы; .lower() -  переводит любой регистр в нижний\n",
    "                break\n",
    "        except Exception as e:\n",
    "            print(f\"Ошибка клиента: {e}\")\n",
    "            time.sleep(1)\n",
    "            continue\n",
    "\n",
    "if __name__ == \"__main__\":\n",
    "    try:\n",
    "        print(\"Для остановки работы клиента нажмите Ctrl + C или Ctrl + Z\")\n",
    "        run_client()\n",
    "    except KeyboardInterrupt:\n",
    "        print(\"\\nКлиент остановлен.\")\n"
   ]
  },
  {
   "cell_type": "markdown",
   "metadata": {},
   "source": [
    "### Объяснение\n",
    "1. FIFO-файл:\n",
    "    - to_desk: Клиент пишет запросы, сервер читает или Сервер пишет ответы, клиент читает.\n",
    "2. Сервер:\n",
    "    - Ожидает запроса в цикле.\n",
    "    - Если запрос равен ping, отвечает pong.\n",
    "    - При ошибках продолжает ожидать запросов.\n",
    "3. Клиент:\n",
    "    - Пишет ping в FIFO.\n",
    "    - Читает ответ.\n",
    "    - При ошибке (например, сервер не отвечает или ответ неверен) повторяет запрос."
   ]
  },
  {
   "cell_type": "markdown",
   "metadata": {},
   "source": [
    "### Как запустить\n",
    "1. Создайте FIFO:\n",
    "    - mkfifo to_desk (если не делали этого раньше)\n",
    "2. Запустите сервер в одном терминале:\n",
    "    - python3 server.py\n",
    "3. Запустите клиента в другом терминале:\n",
    "    - python3 client.py"
   ]
  }
 ],
 "metadata": {
  "language_info": {
   "name": "python"
  }
 },
 "nbformat": 4,
 "nbformat_minor": 2
}
